{
 "cells": [
  {
   "cell_type": "markdown",
   "metadata": {},
   "source": [
    "# Reproducing Results\n",
    "This notebook contains the main experiments for the paper\n",
    "*Predicting Consumption Patterns with Repeated and Novel Events*\n",
    "\n",
    "It reproduces the main results from the paper for our method (tables 5 and 6).\n",
    "\n",
    "*PS: reddit_top is a very large dataset, so it might take a long time to load and compute.*"
   ]
  },
  {
   "cell_type": "markdown",
   "metadata": {},
   "source": [
    "# Downloading the data "
   ]
  },
  {
   "cell_type": "markdown",
   "metadata": {},
   "source": [
    "You can find the data used [here](https://archive.ics.uci.edu/ml/datasets/Repeat+Consumption+Matrices)\n",
    "\n",
    "In order to use our data, Download and Unzip this file and place it in the project directory"
   ]
  },
  {
   "cell_type": "code",
   "execution_count": 1,
   "metadata": {},
   "outputs": [],
   "source": [
    "from models.mixture_model import train_mixture_model\n",
    "from util.data_io import get_dataset\n",
    "\n",
    "def mixture_model_results(dataset):\n",
    "    \"\"\"Method that trains and evalutes the Mixture Model for a particular dataset.\n",
    "    Args:\n",
    "        dataset: String that defines the subdirectry name where data should be. This subdirectory \n",
    "                 should be in a ./data/ directory and contain train.csv, validation.csv & test.csv\n",
    "    \"\"\"\n",
    "    print dataset\n",
    "    train, val, test = get_dataset(dataset)\n",
    "    train_mixture_model(train, val, test, dataset_name=dataset)\n",
    "    train_mixture_model(train, val, test, dataset_name=dataset, method='recall')\n",
    "    print\n",
    "\n",
    "\n"
   ]
  },
  {
   "cell_type": "code",
   "execution_count": 4,
   "metadata": {},
   "outputs": [
    {
     "name": "stdout",
     "output_type": "stream",
     "text": [
      "go_sf\n",
      "2018-03-23 11:31:32,498 INFO --> Loading data for go_sf\n",
      "2018-03-23 11:31:33,891 INFO --> Learning global mixing weights for all points\n",
      "2018-03-23 11:31:34,045 INFO --> Finished EM on all data (global mix weights). Total time: 0 secs\n",
      "2018-03-23 11:31:34,051 INFO --> Doing individual weights with 4 proc\n",
      "2018-03-23 11:31:40,151 INFO --> User EM time: 6 secs -- 0.002 per user\n",
      "2018-03-23 11:31:40,154 INFO --> Mean of mixing weights \t {self:0.3409\t population:0.6591}\n",
      "logP: -7.2562\n",
      "recall: 0.4392\n"
     ]
    }
   ],
   "source": [
    "# dataset can be: 'go_sf', 'go_ny', 'tw_oc', 'tw_ny', 'lastfm', 'reddit_sample', 'reddit_top'\n",
    "mixture_model_results('go_sf')"
   ]
  },
  {
   "cell_type": "code",
   "execution_count": null,
   "metadata": {},
   "outputs": [],
   "source": []
  }
 ],
 "metadata": {
  "kernelspec": {
   "display_name": "Python 2",
   "language": "python",
   "name": "python2"
  },
  "language_info": {
   "codemirror_mode": {
    "name": "ipython",
    "version": 2
   },
   "file_extension": ".py",
   "mimetype": "text/x-python",
   "name": "python",
   "nbconvert_exporter": "python",
   "pygments_lexer": "ipython2",
   "version": "2.7.13"
  }
 },
 "nbformat": 4,
 "nbformat_minor": 2
}
